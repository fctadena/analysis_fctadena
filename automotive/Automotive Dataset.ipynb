{
 "cells": [
  {
   "cell_type": "code",
   "execution_count": 181,
   "id": "20c6fddc",
   "metadata": {},
   "outputs": [],
   "source": [
    "import numpy as np\n",
    "import pandas as pd\n",
    "import matplotlib as plt"
   ]
  },
  {
   "cell_type": "code",
   "execution_count": 182,
   "id": "48a8416d",
   "metadata": {},
   "outputs": [],
   "source": [
    "data = pd.read_excel('used_cars_data.xlsx')"
   ]
  },
  {
   "cell_type": "code",
   "execution_count": 183,
   "id": "2a0d695d",
   "metadata": {
    "scrolled": false
   },
   "outputs": [
    {
     "data": {
      "text/html": [
       "<div>\n",
       "<style scoped>\n",
       "    .dataframe tbody tr th:only-of-type {\n",
       "        vertical-align: middle;\n",
       "    }\n",
       "\n",
       "    .dataframe tbody tr th {\n",
       "        vertical-align: top;\n",
       "    }\n",
       "\n",
       "    .dataframe thead th {\n",
       "        text-align: right;\n",
       "    }\n",
       "</style>\n",
       "<table border=\"1\" class=\"dataframe\">\n",
       "  <thead>\n",
       "    <tr style=\"text-align: right;\">\n",
       "      <th></th>\n",
       "      <th>name</th>\n",
       "      <th>city</th>\n",
       "      <th>year</th>\n",
       "      <th>mileage</th>\n",
       "      <th>transmission</th>\n",
       "      <th>fuel type</th>\n",
       "      <th>engine capacity</th>\n",
       "      <th>price</th>\n",
       "    </tr>\n",
       "  </thead>\n",
       "  <tbody>\n",
       "    <tr>\n",
       "      <th>0</th>\n",
       "      <td>Suzuki Wagon R  2022 Hybrid FZ</td>\n",
       "      <td>Lahore</td>\n",
       "      <td>2022.0</td>\n",
       "      <td>9,019 km</td>\n",
       "      <td>Automatic</td>\n",
       "      <td>Hybrid</td>\n",
       "      <td>660 cc</td>\n",
       "      <td>37.95 lacs</td>\n",
       "    </tr>\n",
       "    <tr>\n",
       "      <th>1</th>\n",
       "      <td>Toyota Yaris Hatchback  2020</td>\n",
       "      <td>Karachi</td>\n",
       "      <td>2020.0</td>\n",
       "      <td>13,250 km</td>\n",
       "      <td>Automatic</td>\n",
       "      <td>Petrol</td>\n",
       "      <td>1000 cc</td>\n",
       "      <td>50 lacs</td>\n",
       "    </tr>\n",
       "    <tr>\n",
       "      <th>2</th>\n",
       "      <td>Toyota Surf  1993</td>\n",
       "      <td>Lahore</td>\n",
       "      <td>1993.0</td>\n",
       "      <td>120,000 km</td>\n",
       "      <td>Automatic</td>\n",
       "      <td>Petrol</td>\n",
       "      <td>2700 cc</td>\n",
       "      <td>25.6 lacs</td>\n",
       "    </tr>\n",
       "    <tr>\n",
       "      <th>3</th>\n",
       "      <td>BMW 3 Series  2013 316i</td>\n",
       "      <td>Gujranwala</td>\n",
       "      <td>2013.0</td>\n",
       "      <td>75,000 km</td>\n",
       "      <td>Automatic</td>\n",
       "      <td>Petrol</td>\n",
       "      <td>1600 cc</td>\n",
       "      <td>73 lacs</td>\n",
       "    </tr>\n",
       "    <tr>\n",
       "      <th>4</th>\n",
       "      <td>Suzuki Wagon R  2020 Hybrid FX</td>\n",
       "      <td>Multan</td>\n",
       "      <td>2020.0</td>\n",
       "      <td>8,500 km</td>\n",
       "      <td>Automatic</td>\n",
       "      <td>Hybrid</td>\n",
       "      <td>660 cc</td>\n",
       "      <td>36.75 lacs</td>\n",
       "    </tr>\n",
       "  </tbody>\n",
       "</table>\n",
       "</div>"
      ],
      "text/plain": [
       "                             name        city    year     mileage  \\\n",
       "0  Suzuki Wagon R  2022 Hybrid FZ      Lahore  2022.0    9,019 km   \n",
       "1   Toyota Yaris Hatchback  2020      Karachi  2020.0   13,250 km   \n",
       "2              Toyota Surf  1993       Lahore  1993.0  120,000 km   \n",
       "3         BMW 3 Series  2013 316i  Gujranwala  2013.0   75,000 km   \n",
       "4  Suzuki Wagon R  2020 Hybrid FX      Multan  2020.0    8,500 km   \n",
       "\n",
       "  transmission fuel type engine capacity       price  \n",
       "0    Automatic    Hybrid          660 cc  37.95 lacs  \n",
       "1    Automatic    Petrol         1000 cc     50 lacs  \n",
       "2    Automatic    Petrol         2700 cc   25.6 lacs  \n",
       "3    Automatic    Petrol         1600 cc     73 lacs  \n",
       "4    Automatic    Hybrid          660 cc  36.75 lacs  "
      ]
     },
     "execution_count": 183,
     "metadata": {},
     "output_type": "execute_result"
    }
   ],
   "source": [
    "data.head()"
   ]
  },
  {
   "cell_type": "markdown",
   "id": "ea949f8d",
   "metadata": {},
   "source": [
    "## 1. ANALYSIS"
   ]
  },
  {
   "cell_type": "markdown",
   "id": "7c3a80b7",
   "metadata": {},
   "source": [
    "### Objective: Create regression model that will predict the price based on the given features."
   ]
  },
  {
   "cell_type": "markdown",
   "id": "65185190",
   "metadata": {},
   "source": [
    "### FEATURE ANALYSIS"
   ]
  },
  {
   "cell_type": "markdown",
   "id": "470262be",
   "metadata": {},
   "source": [
    "'name': This refers to the brand or manufacturer of the car. It is suggested to extract this information from the full name of the car model, as it can influence buyer perception and, therefore, affect pricing.\n",
    "\n",
    "'city': The city where the car is sold could impact its price, with differences between rural and urban areas. It is proposed to gather numerical data representing the average purchasing power of each city, such as average income and other economic indicators.\n",
    "\n",
    "'year': The year of manufacture indicates the freshness of the car in the market. Converting this into a numeric indicator by subtracting the current year can give the age of the car's model, which can influence pricing.\n",
    "\n",
    "'mileage': This feature represents the distance the car has traveled, which can affect its condition and, therefore, its price. It is suggested to retain this feature as is.\n",
    "\n",
    "'transmission': The type of transmission (e.g., manual, automatic) can be a preference for buyers and may influence pricing. It is recommended to keep this feature unchanged.\n",
    "\n",
    "'fuel type': The type of fuel used by the car can impact the type of engine, its cost, and buyer perception. It is proposed to retain this feature without modification.\n",
    "\n",
    "'engine capacity': This feature indicates the size of the engine, which can directly influence the price of the car. It is suggested to keep this feature as is."
   ]
  },
  {
   "cell_type": "markdown",
   "id": "82899247",
   "metadata": {},
   "source": [
    "### FEATURE ENGINEERING STEPS"
   ]
  },
  {
   "cell_type": "markdown",
   "id": "3778317e",
   "metadata": {},
   "source": [
    "1. Transform 'name' to the equivalent brand of the car.\n",
    "2. Transform 'city' into a feature that provides a numeric indicator of its economic position. This could include indicators such as 'average income', 'GDP', and other economic metrics.\n",
    "3. Transform the 'year' by calculating the difference between the model year and the current year (2024).\n",
    "4. Transform 'transmission' using sklearn's OneHotEncoder.\n",
    "5. Transform 'fuel type' using sklearn's OneHotEncoder."
   ]
  },
  {
   "cell_type": "markdown",
   "id": "7960c0e2",
   "metadata": {},
   "source": [
    "### 1. Transform 'name' to the equivalent brand of the car.\n"
   ]
  },
  {
   "cell_type": "code",
   "execution_count": 184,
   "id": "0c2a5830",
   "metadata": {
    "scrolled": false
   },
   "outputs": [
    {
     "data": {
      "text/html": [
       "<div>\n",
       "<style scoped>\n",
       "    .dataframe tbody tr th:only-of-type {\n",
       "        vertical-align: middle;\n",
       "    }\n",
       "\n",
       "    .dataframe tbody tr th {\n",
       "        vertical-align: top;\n",
       "    }\n",
       "\n",
       "    .dataframe thead th {\n",
       "        text-align: right;\n",
       "    }\n",
       "</style>\n",
       "<table border=\"1\" class=\"dataframe\">\n",
       "  <thead>\n",
       "    <tr style=\"text-align: right;\">\n",
       "      <th></th>\n",
       "      <th>brand</th>\n",
       "      <th>city</th>\n",
       "      <th>year</th>\n",
       "      <th>mileage</th>\n",
       "      <th>transmission</th>\n",
       "      <th>fuel type</th>\n",
       "      <th>engine_capacity</th>\n",
       "      <th>price</th>\n",
       "    </tr>\n",
       "  </thead>\n",
       "  <tbody>\n",
       "    <tr>\n",
       "      <th>0</th>\n",
       "      <td>Suzuki</td>\n",
       "      <td>Lahore</td>\n",
       "      <td>2022.0</td>\n",
       "      <td>9,019 km</td>\n",
       "      <td>Automatic</td>\n",
       "      <td>Hybrid</td>\n",
       "      <td>660</td>\n",
       "      <td>37.95</td>\n",
       "    </tr>\n",
       "    <tr>\n",
       "      <th>1</th>\n",
       "      <td>Toyota</td>\n",
       "      <td>Karachi</td>\n",
       "      <td>2020.0</td>\n",
       "      <td>13,250 km</td>\n",
       "      <td>Automatic</td>\n",
       "      <td>Petrol</td>\n",
       "      <td>1000</td>\n",
       "      <td>50.00</td>\n",
       "    </tr>\n",
       "    <tr>\n",
       "      <th>2</th>\n",
       "      <td>Toyota</td>\n",
       "      <td>Lahore</td>\n",
       "      <td>1993.0</td>\n",
       "      <td>120,000 km</td>\n",
       "      <td>Automatic</td>\n",
       "      <td>Petrol</td>\n",
       "      <td>2700</td>\n",
       "      <td>25.60</td>\n",
       "    </tr>\n",
       "    <tr>\n",
       "      <th>3</th>\n",
       "      <td>BMW</td>\n",
       "      <td>Gujranwala</td>\n",
       "      <td>2013.0</td>\n",
       "      <td>75,000 km</td>\n",
       "      <td>Automatic</td>\n",
       "      <td>Petrol</td>\n",
       "      <td>1600</td>\n",
       "      <td>73.00</td>\n",
       "    </tr>\n",
       "    <tr>\n",
       "      <th>4</th>\n",
       "      <td>Suzuki</td>\n",
       "      <td>Multan</td>\n",
       "      <td>2020.0</td>\n",
       "      <td>8,500 km</td>\n",
       "      <td>Automatic</td>\n",
       "      <td>Hybrid</td>\n",
       "      <td>660</td>\n",
       "      <td>36.75</td>\n",
       "    </tr>\n",
       "  </tbody>\n",
       "</table>\n",
       "</div>"
      ],
      "text/plain": [
       "    brand        city    year     mileage transmission fuel type  \\\n",
       "0  Suzuki      Lahore  2022.0    9,019 km    Automatic    Hybrid   \n",
       "1  Toyota     Karachi  2020.0   13,250 km    Automatic    Petrol   \n",
       "2  Toyota      Lahore  1993.0  120,000 km    Automatic    Petrol   \n",
       "3     BMW  Gujranwala  2013.0   75,000 km    Automatic    Petrol   \n",
       "4  Suzuki      Multan  2020.0    8,500 km    Automatic    Hybrid   \n",
       "\n",
       "  engine_capacity  price  \n",
       "0             660  37.95  \n",
       "1            1000  50.00  \n",
       "2            2700  25.60  \n",
       "3            1600  73.00  \n",
       "4             660  36.75  "
      ]
     },
     "execution_count": 184,
     "metadata": {},
     "output_type": "execute_result"
    }
   ],
   "source": [
    "# Transform 'name' into 'brand'\n",
    "data['brand'] = data['name'].str.split().str[0]\n",
    "\n",
    "# Drop the 'name' column\n",
    "data.drop(columns=['name'], inplace=True)\n",
    "\n",
    "# Print the first few rows to verify the transformation\n",
    "data.head()\n",
    "\n",
    "\n",
    "# Assuming df is your DataFrame\n",
    "new_column_order = ['brand', 'city', 'year', 'mileage', 'transmission', 'fuel type', 'engine capacity', 'price']\n",
    "\n",
    "# Reindex the DataFrame with the new column order\n",
    "df = data.reindex(columns=new_column_order)\n",
    "\n",
    "\n",
    "#REMOVING CURRENCY STRINGS\n",
    "def convert_price(price):\n",
    "    if isinstance(price, str):\n",
    "        if 'lacs' in price:\n",
    "            return float(price.replace(' lacs', ''))\n",
    "        elif 'crore' in price:\n",
    "            return float(price.replace(' crore', '')) * 100\n",
    "    return price\n",
    "\n",
    "# Apply the custom function to the 'price' column\n",
    "df['price'] = df['price'].apply(convert_price)\n",
    "\n",
    "\n",
    "\n",
    "# Rename the column 'engine capacity' to 'engine_capacity'\n",
    "df.rename(columns={'engine capacity': 'engine_capacity'}, inplace=True)\n",
    "\n",
    "\n",
    "\n",
    "\n",
    "#REMOVING 'cc' STRING ON engine_capacity\n",
    "def cc_remover(engine_capacity):\n",
    "    if isinstance(engine_capacity, str):\n",
    "        if 'cc' in engine_capacity:\n",
    "            return int(engine_capacity.replace(' cc',''))\n",
    "        \n",
    "        return engine_capacity\n",
    "\n",
    "# Apply the custom function to the 'engine_capacity' column\n",
    "df['engine_capacity'] = df['engine_capacity'].apply(cc_remover)\n",
    "\n",
    "\n",
    "# #REMOVING 'km' STRING ON mileage\n",
    "# def km_remover(mileage):\n",
    "#     if isinstance(mileage, str):\n",
    "#         if 'km' in mileage:\n",
    "#             return float(mileage.replace(' km',''))\n",
    "        \n",
    "#         return mileage\n",
    "\n",
    "# # Apply the custom function to the 'mileage' column\n",
    "# df['mileage'] = df['mileage'].apply(km_remover)\n",
    "\n",
    "\n",
    "# Print the DataFrame to verify the change\n",
    "df.head()"
   ]
  },
  {
   "cell_type": "markdown",
   "id": "8bbd2008",
   "metadata": {},
   "source": [
    "# START HERE, REMOVE KM to MILEAGE, ITS ALL STRING"
   ]
  },
  {
   "cell_type": "markdown",
   "id": "b6bfa3e5",
   "metadata": {},
   "source": [
    "### 2. Transform 'city' into a feature that provides a numeric indicator of its economic position. This could include indicators such as 'average income', 'GDP', and other economic metrics.\n"
   ]
  },
  {
   "cell_type": "markdown",
   "id": "053a201f",
   "metadata": {},
   "source": [
    "### 3. Transform the 'year' by calculating the difference between the model year and the current year (2024).\n"
   ]
  },
  {
   "cell_type": "code",
   "execution_count": null,
   "id": "35495c96",
   "metadata": {},
   "outputs": [],
   "source": []
  }
 ],
 "metadata": {
  "kernelspec": {
   "display_name": "Python 3 (ipykernel)",
   "language": "python",
   "name": "python3"
  },
  "language_info": {
   "codemirror_mode": {
    "name": "ipython",
    "version": 3
   },
   "file_extension": ".py",
   "mimetype": "text/x-python",
   "name": "python",
   "nbconvert_exporter": "python",
   "pygments_lexer": "ipython3",
   "version": "3.9.7"
  }
 },
 "nbformat": 4,
 "nbformat_minor": 5
}
